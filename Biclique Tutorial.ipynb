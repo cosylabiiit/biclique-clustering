{
 "cells": [
  {
   "cell_type": "markdown",
   "metadata": {},
   "source": [
    "# 1. Maximal Bicliques"
   ]
  },
  {
   "cell_type": "code",
   "execution_count": 1,
   "metadata": {
    "collapsed": false
   },
   "outputs": [
    {
     "name": "stdout",
     "output_type": "stream",
     "text": [
      "Unique nodes: 157 and 41\n",
      "Number of edges: 1868\n",
      "Number of bicliques: 710\n"
     ]
    }
   ],
   "source": [
    "from bicliques import MaximalBicliques\n",
    "from test_cases import meat_edges\n",
    "\n",
    "# Specify the location of the folder of sbtest file.\n",
    "sbtestloc = 'max-biclique'\n",
    "maxbi = MaximalBicliques(sbtestloc)\n",
    "\n",
    "# Calculate the bicliques\n",
    "maxbi.calculate_bicliques(edge_list=meat_edges)\n",
    "\n",
    "# Some results\n",
    "print(\"Unique nodes: %i and %i\" % (maxbi.num_unique_nodes))\n",
    "print(\"Number of edges: %i\" % maxbi.num_edges)\n",
    "print(\"Number of bicliques: %i\" % maxbi.num_bicliques)"
   ]
  }
 ],
 "metadata": {
  "kernelspec": {
   "display_name": "Python 3",
   "language": "python",
   "name": "python3"
  },
  "language_info": {
   "codemirror_mode": {
    "name": "ipython",
    "version": 3
   },
   "file_extension": ".py",
   "mimetype": "text/x-python",
   "name": "python",
   "nbconvert_exporter": "python",
   "pygments_lexer": "ipython3",
   "version": "3.6.0"
  }
 },
 "nbformat": 4,
 "nbformat_minor": 2
}
